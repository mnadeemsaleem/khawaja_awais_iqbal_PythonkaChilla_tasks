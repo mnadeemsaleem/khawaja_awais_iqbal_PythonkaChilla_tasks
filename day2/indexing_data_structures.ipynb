{
 "cells": [
  {
   "cell_type": "markdown",
   "id": "55206911",
   "metadata": {},
   "source": [
    "## Indexing"
   ]
  },
  {
   "cell_type": "code",
   "execution_count": 1,
   "id": "a35ae49e",
   "metadata": {},
   "outputs": [
    {
     "data": {
      "text/plain": [
       "'Samosa Pakora'"
      ]
     },
     "execution_count": 1,
     "metadata": {},
     "output_type": "execute_result"
    }
   ],
   "source": [
    "# make a String\n",
    "a=\"Samosa Pakora\"\n",
    "a"
   ]
  },
  {
   "cell_type": "code",
   "execution_count": 2,
   "id": "13843313",
   "metadata": {},
   "outputs": [
    {
     "data": {
      "text/plain": [
       "'S'"
      ]
     },
     "execution_count": 2,
     "metadata": {},
     "output_type": "execute_result"
    }
   ],
   "source": [
    "a[0]"
   ]
  },
  {
   "cell_type": "code",
   "execution_count": 3,
   "id": "9dbe6523",
   "metadata": {},
   "outputs": [
    {
     "data": {
      "text/plain": [
       "'a'"
      ]
     },
     "execution_count": 3,
     "metadata": {},
     "output_type": "execute_result"
    }
   ],
   "source": [
    "a[5]"
   ]
  },
  {
   "cell_type": "code",
   "execution_count": 4,
   "id": "6f468973",
   "metadata": {},
   "outputs": [
    {
     "data": {
      "text/plain": [
       "13"
      ]
     },
     "execution_count": 4,
     "metadata": {},
     "output_type": "execute_result"
    }
   ],
   "source": [
    "# length of Indexing\n",
    "len(a)"
   ]
  },
  {
   "cell_type": "code",
   "execution_count": 5,
   "id": "bd648122",
   "metadata": {},
   "outputs": [
    {
     "data": {
      "text/plain": [
       "'Samos'"
      ]
     },
     "execution_count": 5,
     "metadata": {},
     "output_type": "execute_result"
    }
   ],
   "source": [
    "a[0:5]"
   ]
  },
  {
   "cell_type": "code",
   "execution_count": 6,
   "id": "2888057f",
   "metadata": {},
   "outputs": [
    {
     "data": {
      "text/plain": [
       "'Samosa'"
      ]
     },
     "execution_count": 6,
     "metadata": {},
     "output_type": "execute_result"
    }
   ],
   "source": [
    "a[0:6]"
   ]
  },
  {
   "cell_type": "code",
   "execution_count": 7,
   "id": "e1b2f97a",
   "metadata": {},
   "outputs": [
    {
     "data": {
      "text/plain": [
       "'Samosa Pakora'"
      ]
     },
     "execution_count": 7,
     "metadata": {},
     "output_type": "execute_result"
    }
   ],
   "source": [
    "a[0:13]"
   ]
  },
  {
   "cell_type": "code",
   "execution_count": 8,
   "id": "1efba7ed",
   "metadata": {},
   "outputs": [
    {
     "data": {
      "text/plain": [
       "'a'"
      ]
     },
     "execution_count": 8,
     "metadata": {},
     "output_type": "execute_result"
    }
   ],
   "source": [
    "a[-1]"
   ]
  },
  {
   "cell_type": "code",
   "execution_count": 9,
   "id": "c7fb77f3",
   "metadata": {},
   "outputs": [
    {
     "data": {
      "text/plain": [
       "'P'"
      ]
     },
     "execution_count": 9,
     "metadata": {},
     "output_type": "execute_result"
    }
   ],
   "source": [
    "a[-6]"
   ]
  },
  {
   "cell_type": "markdown",
   "id": "6713b38d",
   "metadata": {},
   "source": [
    "## String Methods"
   ]
  },
  {
   "cell_type": "code",
   "execution_count": 10,
   "id": "a49f0e05",
   "metadata": {},
   "outputs": [
    {
     "data": {
      "text/plain": [
       "'Biryani'"
      ]
     },
     "execution_count": 10,
     "metadata": {},
     "output_type": "execute_result"
    }
   ],
   "source": [
    "food=\"Biryani\"\n",
    "food"
   ]
  },
  {
   "cell_type": "code",
   "execution_count": 11,
   "id": "d969d352",
   "metadata": {},
   "outputs": [
    {
     "data": {
      "text/plain": [
       "7"
      ]
     },
     "execution_count": 11,
     "metadata": {},
     "output_type": "execute_result"
    }
   ],
   "source": [
    "len(food)"
   ]
  },
  {
   "cell_type": "code",
   "execution_count": 12,
   "id": "ce933500",
   "metadata": {},
   "outputs": [
    {
     "data": {
      "text/plain": [
       "'Biryani'"
      ]
     },
     "execution_count": 12,
     "metadata": {},
     "output_type": "execute_result"
    }
   ],
   "source": [
    " food.capitalize()"
   ]
  },
  {
   "cell_type": "code",
   "execution_count": 13,
   "id": "7192a385",
   "metadata": {},
   "outputs": [
    {
     "data": {
      "text/plain": [
       "'BIRYANI'"
      ]
     },
     "execution_count": 13,
     "metadata": {},
     "output_type": "execute_result"
    }
   ],
   "source": [
    "food.upper()"
   ]
  },
  {
   "cell_type": "code",
   "execution_count": 14,
   "id": "45d708fa",
   "metadata": {},
   "outputs": [
    {
     "data": {
      "text/plain": [
       "'biryani'"
      ]
     },
     "execution_count": 14,
     "metadata": {},
     "output_type": "execute_result"
    }
   ],
   "source": [
    "food.lower()"
   ]
  },
  {
   "cell_type": "markdown",
   "id": "604cc0bf",
   "metadata": {},
   "source": [
    "## fiding an Index number in string\n"
   ]
  },
  {
   "cell_type": "code",
   "execution_count": 15,
   "id": "c0d207c6",
   "metadata": {},
   "outputs": [
    {
     "data": {
      "text/plain": [
       "'Baba ammar with Dr Aammar Tufail'"
      ]
     },
     "execution_count": 15,
     "metadata": {},
     "output_type": "execute_result"
    }
   ],
   "source": [
    "name = \"Baba ammar with Dr Aammar Tufail\"\n",
    "name"
   ]
  },
  {
   "cell_type": "code",
   "execution_count": 16,
   "id": "8076413c",
   "metadata": {},
   "outputs": [
    {
     "data": {
      "text/plain": [
       "16"
      ]
     },
     "execution_count": 16,
     "metadata": {},
     "output_type": "execute_result"
    }
   ],
   "source": [
    "name.find(\"D\")"
   ]
  },
  {
   "cell_type": "code",
   "execution_count": 17,
   "id": "ed1e193c",
   "metadata": {},
   "outputs": [
    {
     "data": {
      "text/plain": [
       "'I like samosa, raita, biryani and karahi'"
      ]
     },
     "execution_count": 17,
     "metadata": {},
     "output_type": "execute_result"
    }
   ],
   "source": [
    "food=\"I like samosa, raita, biryani and karahi\"\n",
    "food"
   ]
  },
  {
   "cell_type": "code",
   "execution_count": 18,
   "id": "e147c3f7",
   "metadata": {},
   "outputs": [
    {
     "data": {
      "text/plain": [
       "['I like samosa', ' raita', ' biryani and karahi']"
      ]
     },
     "execution_count": 18,
     "metadata": {},
     "output_type": "execute_result"
    }
   ],
   "source": [
    "food.split(\",\")"
   ]
  },
  {
   "cell_type": "markdown",
   "id": "904defdd",
   "metadata": {},
   "source": [
    "### Basic data Structures in Python\n",
    "\n",
    "1- *Tuple*\n",
    "2- *List*\n",
    "3- *Dictionaries*\n",
    "4- *Set*"
   ]
  },
  {
   "cell_type": "markdown",
   "id": "23f19386",
   "metadata": {},
   "source": [
    "## Tuple\n",
    "- order collection of elements\n",
    "- enclosed in ()\n",
    "- Different kind of element in the string\n",
    "- Once element are stored cant change / unmuted"
   ]
  },
  {
   "cell_type": "code",
   "execution_count": 19,
   "id": "839ddd24",
   "metadata": {},
   "outputs": [
    {
     "data": {
      "text/plain": [
       "(1, 'Python', True, 2.5)"
      ]
     },
     "execution_count": 19,
     "metadata": {},
     "output_type": "execute_result"
    }
   ],
   "source": [
    "tup1 =(1, \"Python\", True, 2.5)\n",
    "tup1"
   ]
  },
  {
   "cell_type": "code",
   "execution_count": 20,
   "id": "65c517f3",
   "metadata": {},
   "outputs": [
    {
     "data": {
      "text/plain": [
       "tuple"
      ]
     },
     "execution_count": 20,
     "metadata": {},
     "output_type": "execute_result"
    }
   ],
   "source": [
    "# type of tuple\n",
    "type(tup1)"
   ]
  },
  {
   "cell_type": "markdown",
   "id": "6f42f952",
   "metadata": {},
   "source": [
    "## Indexing in Tuple"
   ]
  },
  {
   "cell_type": "code",
   "execution_count": 21,
   "id": "4ffb7873",
   "metadata": {},
   "outputs": [
    {
     "data": {
      "text/plain": [
       "'Python'"
      ]
     },
     "execution_count": 21,
     "metadata": {},
     "output_type": "execute_result"
    }
   ],
   "source": [
    "tup1[1]"
   ]
  },
  {
   "cell_type": "code",
   "execution_count": 22,
   "id": "93ea0dd1",
   "metadata": {},
   "outputs": [
    {
     "data": {
      "text/plain": [
       "1"
      ]
     },
     "execution_count": 22,
     "metadata": {},
     "output_type": "execute_result"
    }
   ],
   "source": [
    "tup1[0]"
   ]
  },
  {
   "cell_type": "code",
   "execution_count": 23,
   "id": "15920f2c",
   "metadata": {},
   "outputs": [
    {
     "data": {
      "text/plain": [
       "(1, 'Python', True, 2.5)"
      ]
     },
     "execution_count": 23,
     "metadata": {},
     "output_type": "execute_result"
    }
   ],
   "source": [
    "tup1[0:5]"
   ]
  },
  {
   "cell_type": "code",
   "execution_count": 24,
   "id": "d12147ad",
   "metadata": {},
   "outputs": [
    {
     "data": {
      "text/plain": [
       "4"
      ]
     },
     "execution_count": 24,
     "metadata": {},
     "output_type": "execute_result"
    }
   ],
   "source": [
    "len(tup1)"
   ]
  },
  {
   "cell_type": "code",
   "execution_count": 25,
   "id": "b29202d9",
   "metadata": {},
   "outputs": [
    {
     "data": {
      "text/plain": [
       "(2, 'Baba Shaheer', 2.5, False)"
      ]
     },
     "execution_count": 25,
     "metadata": {},
     "output_type": "execute_result"
    }
   ],
   "source": [
    "tup2=(2,\"Baba Shaheer\", 2.5, False)\n",
    "tup2"
   ]
  },
  {
   "cell_type": "code",
   "execution_count": 26,
   "id": "e494b621",
   "metadata": {},
   "outputs": [
    {
     "data": {
      "text/plain": [
       "(2, 'Baba Shaheer', 2.5, False, 1, 'Python', True, 2.5)"
      ]
     },
     "execution_count": 26,
     "metadata": {},
     "output_type": "execute_result"
    }
   ],
   "source": [
    "tup2+tup1"
   ]
  },
  {
   "cell_type": "code",
   "execution_count": 27,
   "id": "356fe856",
   "metadata": {},
   "outputs": [
    {
     "data": {
      "text/plain": [
       "(20, 30, 50, 70, 85)"
      ]
     },
     "execution_count": 27,
     "metadata": {},
     "output_type": "execute_result"
    }
   ],
   "source": [
    "tup3=(20,30,50,70,85)\n",
    "tup3"
   ]
  },
  {
   "cell_type": "code",
   "execution_count": 28,
   "id": "d7efd822",
   "metadata": {},
   "outputs": [
    {
     "data": {
      "text/plain": [
       "20"
      ]
     },
     "execution_count": 28,
     "metadata": {},
     "output_type": "execute_result"
    }
   ],
   "source": [
    "min(tup3)"
   ]
  },
  {
   "cell_type": "code",
   "execution_count": 29,
   "id": "0a5f0639",
   "metadata": {},
   "outputs": [
    {
     "data": {
      "text/plain": [
       "(20, 30, 50, 70, 85, 20, 30, 50, 70, 85)"
      ]
     },
     "execution_count": 29,
     "metadata": {},
     "output_type": "execute_result"
    }
   ],
   "source": [
    "tup3*2"
   ]
  },
  {
   "cell_type": "code",
   "execution_count": 30,
   "id": "ec531e5e",
   "metadata": {},
   "outputs": [],
   "source": [
    "# tup3+2"
   ]
  },
  {
   "cell_type": "markdown",
   "id": "9e8ae61e",
   "metadata": {},
   "source": [
    "      "
   ]
  },
  {
   "cell_type": "markdown",
   "id": "449ab859",
   "metadata": {},
   "source": [
    "## List\n",
    "- Order collection of elements\n",
    "- enclosed in []\n",
    "- Mutable/ you can change value"
   ]
  },
  {
   "cell_type": "code",
   "execution_count": 31,
   "id": "9e7fa83d",
   "metadata": {},
   "outputs": [
    {
     "data": {
      "text/plain": [
       "[2, 'BabaAmmar', False]"
      ]
     },
     "execution_count": 31,
     "metadata": {},
     "output_type": "execute_result"
    }
   ],
   "source": [
    "list1=[2,\"BabaAmmar\", False]\n",
    "list1"
   ]
  },
  {
   "cell_type": "code",
   "execution_count": 32,
   "id": "c4022e9b",
   "metadata": {},
   "outputs": [
    {
     "data": {
      "text/plain": [
       "list"
      ]
     },
     "execution_count": 32,
     "metadata": {},
     "output_type": "execute_result"
    }
   ],
   "source": [
    "type(list1)"
   ]
  },
  {
   "cell_type": "code",
   "execution_count": 33,
   "id": "9aa288ca",
   "metadata": {},
   "outputs": [
    {
     "data": {
      "text/plain": [
       "3"
      ]
     },
     "execution_count": 33,
     "metadata": {},
     "output_type": "execute_result"
    }
   ],
   "source": [
    "len(list1)"
   ]
  },
  {
   "cell_type": "code",
   "execution_count": 34,
   "id": "4e4396ab",
   "metadata": {},
   "outputs": [
    {
     "data": {
      "text/plain": [
       "False"
      ]
     },
     "execution_count": 34,
     "metadata": {},
     "output_type": "execute_result"
    }
   ],
   "source": [
    "list1[2]"
   ]
  },
  {
   "cell_type": "code",
   "execution_count": 35,
   "id": "ce6f028f",
   "metadata": {},
   "outputs": [
    {
     "data": {
      "text/plain": [
       "[2, 3, 'Ammar', 'Cordanics', 472, 53.2, False]"
      ]
     },
     "execution_count": 35,
     "metadata": {},
     "output_type": "execute_result"
    }
   ],
   "source": [
    "list2=[2,3,\"Ammar\",\"Cordanics\",472,53.2,False]\n",
    "list2"
   ]
  },
  {
   "cell_type": "code",
   "execution_count": 36,
   "id": "be39d98b",
   "metadata": {},
   "outputs": [
    {
     "data": {
      "text/plain": [
       "[2, 'BabaAmmar', False, 2, 3, 'Ammar', 'Cordanics', 472, 53.2, False]"
      ]
     },
     "execution_count": 36,
     "metadata": {},
     "output_type": "execute_result"
    }
   ],
   "source": [
    "list1+list2"
   ]
  },
  {
   "cell_type": "code",
   "execution_count": 37,
   "id": "2d68f07e",
   "metadata": {},
   "outputs": [
    {
     "data": {
      "text/plain": [
       "[2, 'BabaAmmar', False, 2, 'BabaAmmar', False]"
      ]
     },
     "execution_count": 37,
     "metadata": {},
     "output_type": "execute_result"
    }
   ],
   "source": [
    "list1*2"
   ]
  },
  {
   "cell_type": "code",
   "execution_count": 38,
   "id": "a2bed21a",
   "metadata": {},
   "outputs": [
    {
     "data": {
      "text/plain": [
       "[False, 'BabaAmmar', 2]"
      ]
     },
     "execution_count": 38,
     "metadata": {},
     "output_type": "execute_result"
    }
   ],
   "source": [
    "list1\n",
    "\n",
    "list1.reverse()\n",
    "list1"
   ]
  },
  {
   "cell_type": "code",
   "execution_count": 39,
   "id": "9480191c",
   "metadata": {},
   "outputs": [
    {
     "data": {
      "text/plain": [
       "[False, 'BabaAmmar', 2, 'Codanics with youtube']"
      ]
     },
     "execution_count": 39,
     "metadata": {},
     "output_type": "execute_result"
    }
   ],
   "source": [
    "list1.append(\"Codanics with youtube\")\n",
    "list1"
   ]
  },
  {
   "cell_type": "code",
   "execution_count": 40,
   "id": "7fc3bd6b",
   "metadata": {},
   "outputs": [
    {
     "data": {
      "text/plain": [
       "[20, 30, 40, 50, 60, 80, 70, 485, 265]"
      ]
     },
     "execution_count": 40,
     "metadata": {},
     "output_type": "execute_result"
    }
   ],
   "source": [
    "list2=[20,30,40,50,60,80,70,485,265]\n",
    "list2"
   ]
  },
  {
   "cell_type": "code",
   "execution_count": 41,
   "id": "85051cab",
   "metadata": {},
   "outputs": [
    {
     "data": {
      "text/plain": [
       "[20, 30, 40, 50, 60, 70, 80, 265, 485]"
      ]
     },
     "execution_count": 41,
     "metadata": {},
     "output_type": "execute_result"
    }
   ],
   "source": [
    "list2.sort()\n",
    "list2"
   ]
  },
  {
   "cell_type": "markdown",
   "id": "9de16bf1",
   "metadata": {},
   "source": [
    "### Dictionaries\n",
    "- Unorder Collection\n",
    "- key and values\n",
    "- Curly bracese {}\n",
    "- Mutable and can change values"
   ]
  },
  {
   "cell_type": "code",
   "execution_count": 44,
   "id": "c2b56b4a",
   "metadata": {},
   "outputs": [
    {
     "data": {
      "text/plain": [
       "{'samosa': 30, 'Pakora': 100, 'Rita': 20, 'chicken Roll': 30}"
      ]
     },
     "execution_count": 44,
     "metadata": {},
     "output_type": "execute_result"
    }
   ],
   "source": [
    "# food and different price\n",
    "d1={\"samosa\":30,\"Pakora\":100,\"Rita\":20,\"chicken Roll\":30}\n",
    "d1"
   ]
  },
  {
   "cell_type": "code",
   "execution_count": 45,
   "id": "a7424076",
   "metadata": {},
   "outputs": [
    {
     "data": {
      "text/plain": [
       "dict"
      ]
     },
     "execution_count": 45,
     "metadata": {},
     "output_type": "execute_result"
    }
   ],
   "source": [
    "type(d1)"
   ]
  },
  {
   "cell_type": "code",
   "execution_count": 46,
   "id": "e2f4362e",
   "metadata": {},
   "outputs": [
    {
     "data": {
      "text/plain": [
       "dict_keys(['samosa', 'Pakora', 'Rita', 'chicken Roll'])"
      ]
     },
     "execution_count": 46,
     "metadata": {},
     "output_type": "execute_result"
    }
   ],
   "source": [
    "#extract data\n",
    "d1.keys()"
   ]
  },
  {
   "cell_type": "code",
   "execution_count": 47,
   "id": "24e1535f",
   "metadata": {},
   "outputs": [
    {
     "data": {
      "text/plain": [
       "dict_values([30, 100, 20, 30])"
      ]
     },
     "execution_count": 47,
     "metadata": {},
     "output_type": "execute_result"
    }
   ],
   "source": [
    "d1.values()"
   ]
  },
  {
   "cell_type": "code",
   "execution_count": 50,
   "id": "aafeb90d",
   "metadata": {},
   "outputs": [
    {
     "data": {
      "text/plain": [
       "{'samosa': 30, 'Pakora': 100, 'Rita': 20, 'chicken Roll': 30, 'Tikki': 10}"
      ]
     },
     "execution_count": 50,
     "metadata": {},
     "output_type": "execute_result"
    }
   ],
   "source": [
    "#Adding new values\n",
    "d1[\"Tikki\"]=10\n",
    "d1"
   ]
  },
  {
   "cell_type": "code",
   "execution_count": 51,
   "id": "df368900",
   "metadata": {},
   "outputs": [
    {
     "data": {
      "text/plain": [
       "{'samosa': 30, 'Pakora': 100, 'Rita': 20, 'chicken Roll': 30, 'Tikki': 15}"
      ]
     },
     "execution_count": 51,
     "metadata": {},
     "output_type": "execute_result"
    }
   ],
   "source": [
    "# Update the value\n",
    "d1[\"Tikki\"]=15\n",
    "d1"
   ]
  },
  {
   "cell_type": "code",
   "execution_count": 53,
   "id": "85a90f6c",
   "metadata": {},
   "outputs": [],
   "source": [
    "\n",
    "d2={\"Dates\":50,\"Chocalates\":\"200\",\"Sayyian\":1000}\n",
    "d1.update(d2)"
   ]
  },
  {
   "cell_type": "code",
   "execution_count": 54,
   "id": "ba974140",
   "metadata": {},
   "outputs": [
    {
     "data": {
      "text/plain": [
       "{'samosa': 30,\n",
       " 'Pakora': 100,\n",
       " 'Rita': 20,\n",
       " 'chicken Roll': 30,\n",
       " 'Tikki': 15,\n",
       " 'Dates': 50,\n",
       " 'Chocalates': '200',\n",
       " 'Sayyian': 1000}"
      ]
     },
     "execution_count": 54,
     "metadata": {},
     "output_type": "execute_result"
    }
   ],
   "source": [
    "d1"
   ]
  },
  {
   "cell_type": "markdown",
   "id": "82e6d8f2",
   "metadata": {},
   "source": [
    "## Sets\n",
    "- Unorderred\n",
    "- curly braces\n",
    "- no duplicates"
   ]
  },
  {
   "cell_type": "code",
   "execution_count": 55,
   "id": "ac6dcaab",
   "metadata": {},
   "outputs": [
    {
     "data": {
      "text/plain": [
       "{1, 2.5, 5.2, 'Ammar', 'Codanics', 'Faisalabad'}"
      ]
     },
     "execution_count": 55,
     "metadata": {},
     "output_type": "execute_result"
    }
   ],
   "source": [
    "s1={1,2.5,5.2,\"Ammar\",\"Codanics\",\"Faisalabad\"}\n",
    "\n",
    "s1"
   ]
  },
  {
   "cell_type": "code",
   "execution_count": 56,
   "id": "5d6d0a3a",
   "metadata": {},
   "outputs": [],
   "source": [
    "s1.add(\"Shaheer\")"
   ]
  },
  {
   "cell_type": "code",
   "execution_count": 57,
   "id": "60300d0c",
   "metadata": {},
   "outputs": [
    {
     "data": {
      "text/plain": [
       "{1, 2.5, 5.2, 'Ammar', 'Codanics', 'Faisalabad', 'Shaheer'}"
      ]
     },
     "execution_count": 57,
     "metadata": {},
     "output_type": "execute_result"
    }
   ],
   "source": [
    "s1"
   ]
  },
  {
   "cell_type": "code",
   "execution_count": 58,
   "id": "36ec696c",
   "metadata": {},
   "outputs": [],
   "source": [
    "s1.remove(\"Ammar\")"
   ]
  },
  {
   "cell_type": "code",
   "execution_count": 59,
   "id": "c254018f",
   "metadata": {},
   "outputs": [
    {
     "data": {
      "text/plain": [
       "{1, 2.5, 5.2, 'Codanics', 'Faisalabad', 'Shaheer'}"
      ]
     },
     "execution_count": 59,
     "metadata": {},
     "output_type": "execute_result"
    }
   ],
   "source": [
    "s1"
   ]
  },
  {
   "cell_type": "code",
   "execution_count": null,
   "id": "7762bb94",
   "metadata": {},
   "outputs": [],
   "source": []
  }
 ],
 "metadata": {
  "kernelspec": {
   "display_name": "Python 3 (ipykernel)",
   "language": "python",
   "name": "python3"
  },
  "language_info": {
   "codemirror_mode": {
    "name": "ipython",
    "version": 3
   },
   "file_extension": ".py",
   "mimetype": "text/x-python",
   "name": "python",
   "nbconvert_exporter": "python",
   "pygments_lexer": "ipython3",
   "version": "3.9.7"
  }
 },
 "nbformat": 4,
 "nbformat_minor": 5
}
